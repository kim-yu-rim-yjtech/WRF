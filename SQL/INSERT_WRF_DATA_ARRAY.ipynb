{
 "cells": [
  {
   "cell_type": "markdown",
   "metadata": {},
   "source": [
    "## nc 파일 데이터 확인"
   ]
  },
  {
   "cell_type": "code",
   "execution_count": 43,
   "metadata": {},
   "outputs": [
    {
     "name": "stdout",
     "output_type": "stream",
     "text": [
      "<xarray.Dataset>\n",
      "Dimensions:                (Time: 1, south_north: 179, west_east: 179,\n",
      "                            bottom_top: 32, bottom_top_stag: 33,\n",
      "                            soil_layers_stag: 4, west_east_stag: 180,\n",
      "                            south_north_stag: 180, seed_dim_stag: 8)\n",
      "Coordinates:\n",
      "    XLAT                   (Time, south_north, west_east) float32 ...\n",
      "    XLONG                  (Time, south_north, west_east) float32 ...\n",
      "    XTIME                  (Time) datetime64[ns] ...\n",
      "    XLAT_U                 (Time, south_north, west_east_stag) float32 ...\n",
      "    XLONG_U                (Time, south_north, west_east_stag) float32 ...\n",
      "    XLAT_V                 (Time, south_north_stag, west_east) float32 ...\n",
      "    XLONG_V                (Time, south_north_stag, west_east) float32 ...\n",
      "Dimensions without coordinates: Time, south_north, west_east, bottom_top,\n",
      "                                bottom_top_stag, soil_layers_stag,\n",
      "                                west_east_stag, south_north_stag, seed_dim_stag\n",
      "Data variables: (12/201)\n",
      "    Times                  (Time) |S19 ...\n",
      "    LU_INDEX               (Time, south_north, west_east) float32 ...\n",
      "    ZNU                    (Time, bottom_top) float32 ...\n",
      "    ZNW                    (Time, bottom_top_stag) float32 ...\n",
      "    ZS                     (Time, soil_layers_stag) float32 ...\n",
      "    DZS                    (Time, soil_layers_stag) float32 ...\n",
      "    ...                     ...\n",
      "    PCB                    (Time, south_north, west_east) float32 ...\n",
      "    PC                     (Time, south_north, west_east) float32 ...\n",
      "    LANDMASK               (Time, south_north, west_east) float32 ...\n",
      "    LAKEMASK               (Time, south_north, west_east) float32 ...\n",
      "    SST                    (Time, south_north, west_east) float32 ...\n",
      "    SST_INPUT              (Time, south_north, west_east) float32 ...\n",
      "Attributes: (12/129)\n",
      "    TITLE:                            OUTPUT FROM WRF V4.1.2 MODEL\n",
      "    START_DATE:                      2024-01-01_00:00:00\n",
      "    SIMULATION_START_DATE:           2024-01-01_00:00:00\n",
      "    WEST-EAST_GRID_DIMENSION:        180\n",
      "    SOUTH-NORTH_GRID_DIMENSION:      180\n",
      "    BOTTOM-TOP_GRID_DIMENSION:       33\n",
      "    ...                              ...\n",
      "    ISLAKE:                          21\n",
      "    ISICE:                           15\n",
      "    ISURBAN:                         13\n",
      "    ISOILWATER:                      14\n",
      "    HYBRID_OPT:                      2\n",
      "    ETAC:                            0.2\n"
     ]
    }
   ],
   "source": [
    "# pip install xarray\n",
    "\n",
    "import xarray as xr\n",
    "\n",
    "file_path = '/home/yurim2/WRF/WRF-4.1.2/test/em_real/wrfout_d01_2024-01-01_04:00:00'\n",
    "ds = xr.open_dataset(file_path)\n",
    "\n",
    "print(ds)"
   ]
  },
  {
   "cell_type": "code",
   "execution_count": 56,
   "metadata": {},
   "outputs": [
    {
     "name": "stdout",
     "output_type": "stream",
     "text": [
      "<xarray.DataArray 'XLONG' (south_north: 179, west_east: 179)>\n",
      "[32041 values with dtype=float32]\n",
      "Coordinates:\n",
      "    XLAT     (south_north, west_east) float32 ...\n",
      "    XLONG    (south_north, west_east) float32 ...\n",
      "    XTIME    datetime64[ns] ...\n",
      "Dimensions without coordinates: south_north, west_east\n",
      "Attributes:\n",
      "    FieldType:    104\n",
      "    MemoryOrder:  XY \n",
      "    description:  LONGITUDE, WEST IS NEGATIVE\n",
      "    units:        degree_east\n",
      "    stagger:      \n"
     ]
    }
   ],
   "source": [
    "xlong = ds['XLONG'].isel(Time = 0)\n",
    "\n",
    "print(xlong)"
   ]
  },
  {
   "cell_type": "code",
   "execution_count": 45,
   "metadata": {},
   "outputs": [
    {
     "data": {
      "text/plain": [
       "array([[107.773865, 108.0043  , 108.23511 , ..., 150.25964 , 150.48965 ,\n",
       "        150.7193  ],\n",
       "       [107.71118 , 107.94223 , 108.173645, ..., 150.32242 , 150.55304 ,\n",
       "        150.78333 ],\n",
       "       [107.64813 , 107.87979 , 108.11182 , ..., 150.38556 , 150.61682 ,\n",
       "        150.84769 ],\n",
       "       ...,\n",
       "       [ 86.047485,  86.4487  ,  86.852295, ..., 172.01074 , 172.40924 ,\n",
       "        172.80536 ],\n",
       "       [ 85.80841 ,  86.21094 ,  86.615906, ..., 172.25    , 172.64978 ,\n",
       "        173.04712 ],\n",
       "       [ 85.566956,  85.970795,  86.377075, ..., 172.49158 , 172.89264 ,\n",
       "        173.29126 ]], dtype=float32)"
      ]
     },
     "execution_count": 45,
     "metadata": {},
     "output_type": "execute_result"
    }
   ],
   "source": [
    "xlong.values"
   ]
  },
  {
   "cell_type": "code",
   "execution_count": 50,
   "metadata": {},
   "outputs": [
    {
     "name": "stdout",
     "output_type": "stream",
     "text": [
      "u dim :  ('Time', 'bottom_top', 'south_north', 'west_east_stag')\n"
     ]
    }
   ],
   "source": [
    "print('u dim : ', ds['U'].dims)"
   ]
  },
  {
   "cell_type": "code",
   "execution_count": null,
   "metadata": {},
   "outputs": [
    {
     "name": "stdout",
     "output_type": "stream",
     "text": [
      "u_dim :  [[-3.3352785 -3.5699372 -3.5892205 ... -6.308424  -6.3838296 -6.4644513]\n",
      " [-2.2302995 -2.3912618 -2.4206657 ... -6.24735   -6.3383875 -6.440873 ]\n",
      " [-0.9662071 -0.990472  -1.0034723 ... -6.1830664 -6.282534  -6.3996987]\n",
      " ...\n",
      " [20.067257  20.166946  20.274221  ... 11.485388  11.201811  11.09444  ]\n",
      " [19.37067   19.478798  19.6346    ... 11.6575    11.343041  11.199776 ]\n",
      " [18.680733  18.743292  18.810713  ... 11.660259  11.432852  11.3228035]]\n"
     ]
    }
   ],
   "source": [
    "def get_mean_dim(ds, var_name, time_index=0):\n",
    "    \"\"\"\n",
    "    주어진 변수의 적절한 차원을 찾아 평균을 계산하여 반환.\n",
    "    \n",
    "    Parameters:\n",
    "    - ds: xarray.Dataset - 데이터셋\n",
    "    - var_name: str - 변수 이름 (예: 'U' 또는 'V')\n",
    "    - time_index: int - 시간 인덱스 (기본값은 0)\n",
    "    \n",
    "    Returns:\n",
    "    - xarray.DataArray - 평균이 적용된 변수\n",
    "    \"\"\"\n",
    "    variable = ds[var_name]\n",
    "    possible_dims = ['bottom_top', 'bottom_top_stag'] \n",
    "\n",
    "    for dim in possible_dims:\n",
    "        if dim in variable.dims:\n",
    "            return variable.mean(dim=dim).isel(Time=time_index)\n",
    "    \n",
    "    raise ValueError(f\"{var_name} 변수에서 사용 가능한 차원을 찾을 수 없습니다.\")\n",
    "\n",
    "u = get_mean_dim(ds, 'U', time_index = 0)\n",
    "print('u_dim : ', u.values)\n"
   ]
  },
  {
   "cell_type": "markdown",
   "metadata": {},
   "source": [
    "## 데이터 db에 적재"
   ]
  },
  {
   "cell_type": "code",
   "execution_count": 59,
   "metadata": {},
   "outputs": [],
   "source": [
    "import os\n",
    "import psycopg2\n",
    "import xarray as xr\n",
    "import numpy as np\n",
    "import pandas as pd\n",
    "from datetime import datetime, timedelta\n",
    "from tqdm import tqdm\n",
    "import pickle"
   ]
  },
  {
   "cell_type": "code",
   "execution_count": 42,
   "metadata": {},
   "outputs": [],
   "source": [
    "def get_db_connection():\n",
    "    try:\n",
    "        conn = psycopg2.connect(\n",
    "            host=\"172.27.80.1\",\n",
    "            database=\"calpuff\",\n",
    "            user=\"postgres\",\n",
    "            password=\"1201\"\n",
    "        )\n",
    "        print(\"데이터베이스에 연결되었습니다.\")\n",
    "        return conn\n",
    "    except Exception as e:\n",
    "        print(\"데이터베이스 연결에 실패했습니다:\", e)\n",
    "        return None"
   ]
  },
  {
   "cell_type": "code",
   "execution_count": 57,
   "metadata": {},
   "outputs": [
    {
     "name": "stdout",
     "output_type": "stream",
     "text": [
      "WRF 데이터 nc 파일 변환 시작 ...\n",
      "데이터베이스에 연결되었습니다.\n",
      "2024-01-01 01:00:00 데이터가 성공적으로 삽입되었습니다.\n",
      "데이터베이스에 연결되었습니다.\n",
      "2024-01-01 02:00:00 데이터가 성공적으로 삽입되었습니다.\n",
      "데이터베이스에 연결되었습니다.\n",
      "2024-01-01 03:00:00 데이터가 성공적으로 삽입되었습니다.\n",
      "데이터베이스에 연결되었습니다.\n",
      "2024-01-01 04:00:00 데이터가 성공적으로 삽입되었습니다.\n",
      "\n",
      "처리 완료:\n",
      "성공: 4 파일\n",
      "실패: 0 파일\n",
      "변환 작업 완료\n"
     ]
    }
   ],
   "source": [
    "def process_nc_file(file_path):\n",
    "    files = os.path.basename(file_path)\n",
    "    parts = files.split('_')\n",
    "    if len(parts) >= 4:\n",
    "        timestamp_str = f\"{parts[2]} {parts[3].replace(':', '-')}\"\n",
    "        timestamp = datetime.strptime(timestamp_str, '%Y-%m-%d %H-%M-%S')\n",
    "    else:\n",
    "        print(f'{file_path}의 형식이 잘못되었습니다.')\n",
    "        return False  # 실패했음을 표시하기 위해 False 반환\n",
    "\n",
    "    ds = xr.open_dataset(file_path)\n",
    "    \n",
    "    # 임시 파일 경로 형성 (f-string 형식 사용)\n",
    "    temp_file = f\"/tmp/{timestamp}.nc\"\n",
    "    ds.to_netcdf(temp_file)\n",
    "    ds.close()\n",
    "\n",
    "    # 임시 파일을 바이너리로 읽기\n",
    "    with open(temp_file, 'rb') as f:\n",
    "        binary_data = f.read()\n",
    "    \n",
    "    # 데이터베이스 연결\n",
    "    conn = get_db_connection()\n",
    "    if conn is None:\n",
    "        return False\n",
    "    \n",
    "    cursor = conn.cursor()\n",
    "    \n",
    "    try:\n",
    "        # 데이터베이스에 바이너리 데이터 삽입\n",
    "        cursor.execute(\n",
    "            \"INSERT INTO WRF_2024_01_NC (timestamp, nc_data) VALUES (%s, %s)\",\n",
    "            (timestamp, psycopg2.Binary(binary_data))\n",
    "        )\n",
    "        \n",
    "        conn.commit()\n",
    "        print(f'{timestamp} 데이터가 성공적으로 삽입되었습니다.')\n",
    "    except Exception as e:\n",
    "        print(f'{timestamp} 데이터 삽입에 실패했습니다:', e)\n",
    "        return False\n",
    "    finally:\n",
    "        cursor.close()\n",
    "        conn.close()\n",
    "        # 임시 파일 삭제\n",
    "        os.remove(temp_file)\n",
    "    \n",
    "    return True  # 성공했음을 표시하기 위해 True 반환\n",
    "\n",
    "def process_all_file(folder_path):\n",
    "    success_count = 0\n",
    "    fail_count = 0\n",
    "    \n",
    "    # 폴더에서 파일 찾기\n",
    "    files = [file_name for file_name in os.listdir(folder_path) if file_name.startswith('wrfout_d01_2024-01-01')]\n",
    "    files = sorted(files)\n",
    "    \n",
    "    for file_name in files:\n",
    "        file_path = os.path.join(folder_path, file_name)\n",
    "        if process_nc_file(file_path):\n",
    "            success_count += 1\n",
    "        else:\n",
    "            fail_count += 1\n",
    "\n",
    "    print(f'\\n처리 완료:')\n",
    "    print(f'성공: {success_count} 파일')\n",
    "    print(f'실패: {fail_count} 파일')\n",
    "    \n",
    "def main():\n",
    "    print('WRF 데이터 nc 파일 변환 시작 ...')\n",
    "    folder_path = '/home/yurim2/WRF/SQL'\n",
    "    process_all_file(folder_path)\n",
    "    print('변환 작업 완료')\n",
    "    \n",
    "if __name__ == '__main__':\n",
    "    main()\n"
   ]
  },
  {
   "cell_type": "code",
   "execution_count": null,
   "metadata": {},
   "outputs": [],
   "source": []
  },
  {
   "cell_type": "code",
   "execution_count": null,
   "metadata": {},
   "outputs": [],
   "source": []
  }
 ],
 "metadata": {
  "kernelspec": {
   "display_name": "venv-CALPUFF",
   "language": "python",
   "name": "python3"
  },
  "language_info": {
   "codemirror_mode": {
    "name": "ipython",
    "version": 3
   },
   "file_extension": ".py",
   "mimetype": "text/x-python",
   "name": "python",
   "nbconvert_exporter": "python",
   "pygments_lexer": "ipython3",
   "version": "3.8.20"
  }
 },
 "nbformat": 4,
 "nbformat_minor": 2
}
