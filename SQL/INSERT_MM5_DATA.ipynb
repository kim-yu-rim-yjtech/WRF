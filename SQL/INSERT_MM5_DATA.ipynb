{
 "cells": [
  {
   "cell_type": "code",
   "execution_count": 5,
   "metadata": {},
   "outputs": [],
   "source": [
    "import os\n",
    "import psycopg2\n",
    "from datetime import datetime"
   ]
  },
  {
   "cell_type": "code",
   "execution_count": 8,
   "metadata": {},
   "outputs": [],
   "source": [
    "def get_db_connection():\n",
    "    try:\n",
    "        conn = psycopg2.connect(\n",
    "            host=\"172.27.80.1\",\n",
    "            database=\"calpuff\",\n",
    "            user=\"postgres\",\n",
    "            password=\"1201\"\n",
    "        )\n",
    "        print(\"데이터베이스에 연결되었습니다.\")\n",
    "        return conn\n",
    "    except Exception as e:\n",
    "        print(\"데이터베이스 연결에 실패했습니다:\", e)\n",
    "        return None"
   ]
  },
  {
   "cell_type": "code",
   "execution_count": 15,
   "metadata": {},
   "outputs": [],
   "source": [
    "def insert_metadata(file_path, description=None):\n",
    "    conn = get_db_connection()\n",
    "    if conn is None:\n",
    "        return \n",
    "\n",
    "    cursor = conn.cursor()\n",
    "    \n",
    "    created_at = datetime.now()\n",
    "    \n",
    "    try:\n",
    "        cursor.execute(\"SELECT COUNT(*) FROM mm5 WHERE file_path = %s\", (file_path,))\n",
    "        result = cursor.fetchone()\n",
    "        if result[0] > 0:\n",
    "            print(f\"{file_path}은(는) 이미 데이터베이스에 존재합니다. 삽입을 건너뜁니다.\")\n",
    "            return\n",
    "        \n",
    "        cursor.execute(\n",
    "            \"INSERT INTO mm5 (file_path, created_at, description) VALUES (%s, %s, %s)\",\n",
    "            (file_path, created_at, description)\n",
    "        )\n",
    "        conn.commit()\n",
    "        print(f\"{file_path}에 대한 메타데이터가 성공적으로 삽입되었습니다.\")\n",
    "    except Exception as e:\n",
    "        print(f\"{file_path}에 대한 데이터 삽입에 실패했습니다:\", e)\n",
    "    finally:\n",
    "        cursor.close()\n",
    "        conn.close()\n",
    "\n",
    "\n",
    "def process_files(folder_path):\n",
    "    files = [file_name for file_name in os.listdir(folder_path) if file_name.startswith(\"wrfout\")]\n",
    "    files = sorted(files)\n",
    "    \n",
    "    for file_name in files:\n",
    "        file_path = os.path.join(folder_path, file_name)\n",
    "        \n",
    "        parts = file_name.split(\"_\")\n",
    "        if len(parts) >= 3:\n",
    "            description_datetime = parts[2] + \" \" + parts[3]\n",
    "        else:\n",
    "            description_datetime = None \n",
    "        \n",
    "        insert_metadata(file_path, description=description_datetime)"
   ]
  },
  {
   "cell_type": "code",
   "execution_count": 16,
   "metadata": {},
   "outputs": [
    {
     "name": "stdout",
     "output_type": "stream",
     "text": [
      "데이터베이스에 연결되었습니다.\n",
      "/home/yurim2/WRF/WRF-4.1.2/test/em_real/wrfout_d01_2024-01-01_00:00:00에 대한 메타데이터가 성공적으로 삽입되었습니다.\n",
      "데이터베이스에 연결되었습니다.\n",
      "/home/yurim2/WRF/WRF-4.1.2/test/em_real/wrfout_d01_2024-01-01_01:00:00에 대한 메타데이터가 성공적으로 삽입되었습니다.\n",
      "데이터베이스에 연결되었습니다.\n",
      "/home/yurim2/WRF/WRF-4.1.2/test/em_real/wrfout_d01_2024-01-01_02:00:00에 대한 메타데이터가 성공적으로 삽입되었습니다.\n",
      "데이터베이스에 연결되었습니다.\n",
      "/home/yurim2/WRF/WRF-4.1.2/test/em_real/wrfout_d01_2024-01-01_03:00:00에 대한 메타데이터가 성공적으로 삽입되었습니다.\n",
      "데이터베이스에 연결되었습니다.\n",
      "/home/yurim2/WRF/WRF-4.1.2/test/em_real/wrfout_d01_2024-01-01_04:00:00에 대한 메타데이터가 성공적으로 삽입되었습니다.\n",
      "데이터베이스에 연결되었습니다.\n",
      "/home/yurim2/WRF/WRF-4.1.2/test/em_real/wrfout_d01_2024-01-01_05:00:00에 대한 메타데이터가 성공적으로 삽입되었습니다.\n",
      "데이터베이스에 연결되었습니다.\n",
      "/home/yurim2/WRF/WRF-4.1.2/test/em_real/wrfout_d01_2024-01-01_06:00:00에 대한 메타데이터가 성공적으로 삽입되었습니다.\n",
      "데이터베이스에 연결되었습니다.\n",
      "/home/yurim2/WRF/WRF-4.1.2/test/em_real/wrfout_d01_2024-01-01_07:00:00에 대한 메타데이터가 성공적으로 삽입되었습니다.\n",
      "데이터베이스에 연결되었습니다.\n",
      "/home/yurim2/WRF/WRF-4.1.2/test/em_real/wrfout_d01_2024-01-01_08:00:00에 대한 메타데이터가 성공적으로 삽입되었습니다.\n",
      "데이터베이스에 연결되었습니다.\n",
      "/home/yurim2/WRF/WRF-4.1.2/test/em_real/wrfout_d01_2024-01-01_09:00:00에 대한 메타데이터가 성공적으로 삽입되었습니다.\n",
      "데이터베이스에 연결되었습니다.\n",
      "/home/yurim2/WRF/WRF-4.1.2/test/em_real/wrfout_d01_2024-01-01_10:00:00에 대한 메타데이터가 성공적으로 삽입되었습니다.\n",
      "데이터베이스에 연결되었습니다.\n",
      "/home/yurim2/WRF/WRF-4.1.2/test/em_real/wrfout_d01_2024-01-01_11:00:00에 대한 메타데이터가 성공적으로 삽입되었습니다.\n",
      "데이터베이스에 연결되었습니다.\n",
      "/home/yurim2/WRF/WRF-4.1.2/test/em_real/wrfout_d01_2024-01-01_12:00:00에 대한 메타데이터가 성공적으로 삽입되었습니다.\n",
      "데이터베이스에 연결되었습니다.\n",
      "/home/yurim2/WRF/WRF-4.1.2/test/em_real/wrfout_d01_2024-01-01_13:00:00에 대한 메타데이터가 성공적으로 삽입되었습니다.\n",
      "데이터베이스에 연결되었습니다.\n",
      "/home/yurim2/WRF/WRF-4.1.2/test/em_real/wrfout_d01_2024-01-01_14:00:00에 대한 메타데이터가 성공적으로 삽입되었습니다.\n",
      "데이터베이스에 연결되었습니다.\n",
      "/home/yurim2/WRF/WRF-4.1.2/test/em_real/wrfout_d01_2024-01-01_15:00:00에 대한 메타데이터가 성공적으로 삽입되었습니다.\n",
      "데이터베이스에 연결되었습니다.\n",
      "/home/yurim2/WRF/WRF-4.1.2/test/em_real/wrfout_d01_2024-01-01_16:00:00에 대한 메타데이터가 성공적으로 삽입되었습니다.\n",
      "데이터베이스에 연결되었습니다.\n",
      "/home/yurim2/WRF/WRF-4.1.2/test/em_real/wrfout_d01_2024-01-01_17:00:00에 대한 메타데이터가 성공적으로 삽입되었습니다.\n",
      "데이터베이스에 연결되었습니다.\n",
      "/home/yurim2/WRF/WRF-4.1.2/test/em_real/wrfout_d01_2024-01-01_18:00:00에 대한 메타데이터가 성공적으로 삽입되었습니다.\n",
      "데이터베이스에 연결되었습니다.\n",
      "/home/yurim2/WRF/WRF-4.1.2/test/em_real/wrfout_d01_2024-01-01_19:00:00에 대한 메타데이터가 성공적으로 삽입되었습니다.\n",
      "데이터베이스에 연결되었습니다.\n",
      "/home/yurim2/WRF/WRF-4.1.2/test/em_real/wrfout_d01_2024-01-01_20:00:00에 대한 메타데이터가 성공적으로 삽입되었습니다.\n",
      "데이터베이스에 연결되었습니다.\n",
      "/home/yurim2/WRF/WRF-4.1.2/test/em_real/wrfout_d01_2024-01-01_21:00:00에 대한 메타데이터가 성공적으로 삽입되었습니다.\n",
      "데이터베이스에 연결되었습니다.\n",
      "/home/yurim2/WRF/WRF-4.1.2/test/em_real/wrfout_d01_2024-01-01_22:00:00에 대한 메타데이터가 성공적으로 삽입되었습니다.\n",
      "데이터베이스에 연결되었습니다.\n",
      "/home/yurim2/WRF/WRF-4.1.2/test/em_real/wrfout_d01_2024-01-01_23:00:00에 대한 메타데이터가 성공적으로 삽입되었습니다.\n",
      "데이터베이스에 연결되었습니다.\n",
      "/home/yurim2/WRF/WRF-4.1.2/test/em_real/wrfout_d01_2024-01-02_00:00:00에 대한 메타데이터가 성공적으로 삽입되었습니다.\n"
     ]
    }
   ],
   "source": [
    "folder_path = '/home/yurim2/WRF/WRF-4.1.2/test/em_real/'\n",
    "process_files(folder_path)"
   ]
  }
 ],
 "metadata": {
  "kernelspec": {
   "display_name": "venv-CALPUFF",
   "language": "python",
   "name": "python3"
  },
  "language_info": {
   "codemirror_mode": {
    "name": "ipython",
    "version": 3
   },
   "file_extension": ".py",
   "mimetype": "text/x-python",
   "name": "python",
   "nbconvert_exporter": "python",
   "pygments_lexer": "ipython3",
   "version": "3.8.20"
  }
 },
 "nbformat": 4,
 "nbformat_minor": 2
}
