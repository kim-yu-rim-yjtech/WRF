{
 "cells": [
  {
   "cell_type": "code",
   "execution_count": 1,
   "metadata": {},
   "outputs": [],
   "source": [
    "from flask import Flask, jsonify, send_from_directory\n",
    "import psycopg2\n",
    "import requests\n",
    "from bs4 import BeautifulSoup\n",
    "import os\n",
    "from urllib.parse import urljoin\n",
    "from concurrent.futures import ThreadPoolExecutor"
   ]
  },
  {
   "cell_type": "code",
   "execution_count": 2,
   "metadata": {},
   "outputs": [],
   "source": [
    "def get_db_connection():\n",
    "    try:\n",
    "        conn = psycopg2.connect(\n",
    "            host=\"172.27.80.1\",\n",
    "            database=\"calpuff\",\n",
    "            user=\"postgres\",\n",
    "            password=\"1201\"\n",
    "        )\n",
    "        print(\"데이터베이스에 연결되었습니다.\")\n",
    "        return conn\n",
    "    except Exception as e:\n",
    "        print(\"데이터베이스 연결에 실패했습니다:\", e)\n",
    "        return None"
   ]
  },
  {
   "cell_type": "code",
   "execution_count": 3,
   "metadata": {},
   "outputs": [
    {
     "name": "stdout",
     "output_type": "stream",
     "text": [
      " * Serving Flask app '__main__'\n",
      " * Debug mode: on\n"
     ]
    },
    {
     "name": "stderr",
     "output_type": "stream",
     "text": [
      "\u001b[31m\u001b[1mWARNING: This is a development server. Do not use it in a production deployment. Use a production WSGI server instead.\u001b[0m\n",
      " * Running on all addresses (0.0.0.0)\n",
      " * Running on http://127.0.0.1:5555\n",
      " * Running on http://172.27.91.71:5555\n",
      "\u001b[33mPress CTRL+C to quit\u001b[0m\n",
      " * Restarting with stat\n",
      "Traceback (most recent call last):\n",
      "  File \"/home/yurim2/.local/lib/python3.8/site-packages/ipykernel_launcher.py\", line 18, in <module>\n",
      "    app.launch_new_instance()\n",
      "  File \"/home/yurim2/.local/lib/python3.8/site-packages/traitlets/config/application.py\", line 1074, in launch_instance\n",
      "    app.initialize(argv)\n",
      "  File \"/home/yurim2/.local/lib/python3.8/site-packages/traitlets/config/application.py\", line 118, in inner\n",
      "    return method(app, *args, **kwargs)\n",
      "  File \"/home/yurim2/.local/lib/python3.8/site-packages/ipykernel/kernelapp.py\", line 692, in initialize\n",
      "    self.init_sockets()\n",
      "  File \"/home/yurim2/.local/lib/python3.8/site-packages/ipykernel/kernelapp.py\", line 331, in init_sockets\n",
      "    self.shell_port = self._bind_socket(self.shell_socket, self.shell_port)\n",
      "  File \"/home/yurim2/.local/lib/python3.8/site-packages/ipykernel/kernelapp.py\", line 253, in _bind_socket\n",
      "    return self._try_bind_socket(s, port)\n",
      "  File \"/home/yurim2/.local/lib/python3.8/site-packages/ipykernel/kernelapp.py\", line 229, in _try_bind_socket\n",
      "    s.bind(\"tcp://%s:%i\" % (self.ip, port))\n",
      "  File \"/home/yurim2/.local/lib/python3.8/site-packages/zmq/sugar/socket.py\", line 311, in bind\n",
      "    super().bind(addr)\n",
      "  File \"_zmq.py\", line 917, in zmq.backend.cython._zmq.Socket.bind\n",
      "  File \"_zmq.py\", line 179, in zmq.backend.cython._zmq._check_rc\n",
      "zmq.error.ZMQError: Address already in use (addr='tcp://127.0.0.1:9002')\n"
     ]
    },
    {
     "ename": "SystemExit",
     "evalue": "1",
     "output_type": "error",
     "traceback": [
      "An exception has occurred, use %tb to see the full traceback.\n",
      "\u001b[0;31mSystemExit\u001b[0m\u001b[0;31m:\u001b[0m 1\n"
     ]
    },
    {
     "name": "stderr",
     "output_type": "stream",
     "text": [
      "/home/yurim2/.local/lib/python3.8/site-packages/IPython/core/interactiveshell.py:3516: UserWarning: To exit: use 'exit', 'quit', or Ctrl-D.\n",
      "  warn(\"To exit: use 'exit', 'quit', or Ctrl-D.\", stacklevel=1)\n"
     ]
    }
   ],
   "source": [
    "app = Flask(__name__)\n",
    "\n",
    "# static 디렉토리 설정\n",
    "STATIC_DIR = os.path.join(app.root_path, 'static')\n",
    "os.makedirs(STATIC_DIR, exist_ok=True)  # static 폴더가 없으면 생성\n",
    "\n",
    "# 비동기 작업을 위한 ThreadPoolExecutor 설정\n",
    "executor = ThreadPoolExecutor(max_workers=2)\n",
    "\n",
    "\n",
    "def download_grid2_data():\n",
    "    conn = get_db_connection()\n",
    "    \n",
    "    if conn is None:\n",
    "        return None\n",
    "    \n",
    "    cursor = conn.cursor()\n",
    "    downloaded_files = []\n",
    "\n",
    "    # 이미 다운로드된 파일 제외 조건\n",
    "    query = \"\"\"\n",
    "    SELECT * \n",
    "    FROM ncar_data\n",
    "    WHERE file_name NOT IN (SELECT file_name FROM downloaded_ncar_files)\n",
    "    \"\"\"\n",
    "    cursor.execute(query)\n",
    "    data = cursor.fetchall()\n",
    "    \n",
    "    if data:\n",
    "        for row in data:\n",
    "            _, time, file_name, url_path = row\n",
    "            print(\"다운로드할 데이터:\", row)\n",
    "            download_path = os.path.join(STATIC_DIR, file_name)\n",
    "            \n",
    "            url_path = url_path.strip()\n",
    "            headers = {\n",
    "                'User-Agent': 'Mozilla/5.0 (compatible; Googlebot/2.1; +http://www.google.com/bot.html)'}\n",
    "            \n",
    "            response = requests.get(url_path, headers=headers)\n",
    "            if response.status_code == 200:\n",
    "                with open(download_path, 'wb') as file:\n",
    "                    file.write(response.content)\n",
    "                \n",
    "                cursor.execute(\"INSERT INTO downloaded_ncar_files (file_name) VALUES (%s)\", (file_name,))\n",
    "                conn.commit()\n",
    "                downloaded_files.append(file_name)\n",
    "                print(f\"다운로드 완료: {file_name}\")\n",
    "            else:\n",
    "                print(\"파일을 다운로드할 수 없습니다:\", url_path, \"상태 코드:\", response.status_code)\n",
    "    else:\n",
    "        print(\"다운로드할 새로운 데이터가 없습니다.\")\n",
    "    \n",
    "    cursor.close()\n",
    "    conn.close()\n",
    "    \n",
    "    return downloaded_files\n",
    "\n",
    "@app.route('/')\n",
    "def home():\n",
    "    return jsonify({\"message\": \"Welcome to the File Download NCAR Service. Use /NCAR to start the download.\"})\n",
    "\n",
    "@app.route('/NCAR', methods=['GET'])\n",
    "def download():\n",
    "    # 비동기로 download_ncar_data 함수를 실행\n",
    "    future = executor.submit(download_grid2_data)\n",
    "\n",
    "    # 비동기 실행 중 상태 메시지 반환\n",
    "    return jsonify({\"status\": \"in_progress\", \"message\": \"파일 다운로드가 시작되었습니다. 다운로드가 완료되면 파일을 static 디렉토리에서 확인할 수 있습니다.\"})\n",
    "\n",
    "\n",
    "@app.route('/static/<path:filename>')\n",
    "def serve_file(filename):\n",
    "    return send_from_directory(STATIC_DIR, filename)\n",
    "\n",
    "\n",
    "@app.route('/downloaded_files', methods=['GET'])\n",
    "def list_downloaded_files():\n",
    "    # 다운로드된 파일 목록을 확인하는 엔드포인트\n",
    "    files = os.listdir(STATIC_DIR)\n",
    "    file_urls = [f\"/static/{filename}\" for filename in files]\n",
    "    return jsonify({\"status\": \"success\", \"files\": file_urls})\n",
    "\n",
    "\n",
    "if __name__ == '__main__':\n",
    "    app.run(host='0.0.0.0', port=5555, debug=True)"
   ]
  }
 ],
 "metadata": {
  "kernelspec": {
   "display_name": "venv-CALPUFF",
   "language": "python",
   "name": "python3"
  },
  "language_info": {
   "codemirror_mode": {
    "name": "ipython",
    "version": 3
   },
   "file_extension": ".py",
   "mimetype": "text/x-python",
   "name": "python",
   "nbconvert_exporter": "python",
   "pygments_lexer": "ipython3",
   "version": "3.8.20"
  }
 },
 "nbformat": 4,
 "nbformat_minor": 2
}
